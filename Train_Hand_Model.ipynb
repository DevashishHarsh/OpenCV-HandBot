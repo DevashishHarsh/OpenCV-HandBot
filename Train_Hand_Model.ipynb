{
  "cells": [
    {
      "cell_type": "markdown",
      "source": [
        "# Training your Hand Model\n",
        "---\n",
        "\n",
        "\n",
        "This file is used to train your hand model based on the data you have saved for various poses and their samples. This will create a robust model for detecting your hand sign.\n",
        "\n",
        "\n",
        "\n",
        "\n"
      ],
      "metadata": {
        "id": "nPL9pXjKp1Lr"
      }
    },
    {
      "cell_type": "markdown",
      "source": [
        "### Upload your hand_model.pkl"
      ],
      "metadata": {
        "id": "pfsvvKUjrAhx"
      }
    },
    {
      "cell_type": "code",
      "execution_count": null,
      "metadata": {
        "id": "Xmg0jaqMpJ9I"
      },
      "outputs": [],
      "source": [
        "from google.colab import files\n",
        "uploaded = files.upload()"
      ]
    },
    {
      "cell_type": "markdown",
      "source": [
        "### Install requirements for the colab notebook"
      ],
      "metadata": {
        "id": "O61D13lerMs4"
      }
    },
    {
      "cell_type": "code",
      "execution_count": null,
      "metadata": {
        "id": "3aZs258IpOLB"
      },
      "outputs": [],
      "source": [
        "!pip install torch torchvision\n",
        "\n",
        "import pickle\n",
        "import torch\n",
        "import torch.nn as nn\n",
        "from torch.utils.data import Dataset, DataLoader\n",
        "import numpy as np\n",
        "from sklearn.preprocessing import LabelEncoder\n",
        "from sklearn.model_selection import train_test_split"
      ]
    },
    {
      "cell_type": "markdown",
      "source": [
        "### Opening and processing the data from the file"
      ],
      "metadata": {
        "id": "FbAO9X14rczB"
      }
    },
    {
      "cell_type": "markdown",
      "source": [
        "#### Preparing the data"
      ],
      "metadata": {
        "id": "3wUxX5glrqWQ"
      }
    },
    {
      "cell_type": "code",
      "execution_count": null,
      "metadata": {
        "colab": {
          "background_save": true
        },
        "id": "QHC9j25ppQaA"
      },
      "outputs": [],
      "source": [
        "filename = list(uploaded.keys())[0]\n",
        "# Open the pickle file correctly\n",
        "with open(filename, 'rb') as f:\n",
        "    raw_data = pickle.load(f)\n",
        "\n",
        "X = []\n",
        "y = []\n",
        "\n",
        "\n",
        "for label, samples in raw_data.items():\n",
        "  for landmark_list in samples:\n",
        "      X.append(landmark_list)\n",
        "      y.append(label)\n",
        "\n",
        "X = np.array(X, dtype=np.float32)\n",
        "y = np.array(y)\n",
        "\n",
        "# Encode labels to numeric classes\n",
        "le = LabelEncoder()\n",
        "y_encoded = le.fit_transform(y)\n",
        "\n",
        "# Train/val split\n",
        "X_train, X_val, y_train, y_val = train_test_split(X, y_encoded, test_size=0.2, random_state=42)\n"
      ]
    },
    {
      "cell_type": "markdown",
      "source": [
        "#### Creating a GestureDataset Class for training"
      ],
      "metadata": {
        "id": "crjRaKfGrjix"
      }
    },
    {
      "cell_type": "code",
      "execution_count": null,
      "metadata": {
        "id": "6UA9TO2JpTbh"
      },
      "outputs": [],
      "source": [
        "class GestureDataset(Dataset):\n",
        "    def __init__(self, X, y):\n",
        "        self.X = torch.tensor(X, dtype=torch.float32)\n",
        "        self.y = torch.tensor(y, dtype=torch.long)\n",
        "\n",
        "    def __len__(self):\n",
        "        return len(self.X)\n",
        "\n",
        "    def __getitem__(self, idx):\n",
        "        return self.X[idx], self.y[idx]\n",
        "\n",
        "train_dataset = GestureDataset(X_train, y_train)\n",
        "val_dataset   = GestureDataset(X_val, y_val)\n",
        "\n",
        "train_loader = DataLoader(train_dataset, batch_size=32, shuffle=True)\n",
        "val_loader   = DataLoader(val_dataset, batch_size=32, shuffle=False)"
      ]
    },
    {
      "cell_type": "markdown",
      "source": [
        "#### Creating a HandGestureClassifier Class for training and loading up the model"
      ],
      "metadata": {
        "id": "C5HzXWvkrx5g"
      }
    },
    {
      "cell_type": "code",
      "execution_count": null,
      "metadata": {
        "id": "bjY1jOETpWHZ"
      },
      "outputs": [],
      "source": [
        "class HandGestureClassifier(nn.Module):\n",
        "    def __init__(self, num_classes):\n",
        "        super(HandGestureClassifier, self).__init__()\n",
        "        self.model = nn.Sequential(\n",
        "            nn.Flatten(),                  # [B, 21, 2] → [B, 42]\n",
        "            nn.Linear(42, 128),\n",
        "            nn.ReLU(),\n",
        "            nn.Linear(128, 64),\n",
        "            nn.ReLU(),\n",
        "            nn.Linear(64, num_classes)\n",
        "        )\n",
        "\n",
        "    def forward(self, x):\n",
        "        return self.model(x)\n",
        "\n",
        "# Device setup\n",
        "device = torch.device(\"cuda\" if torch.cuda.is_available() else \"cpu\")\n",
        "\n",
        "# Instantiate the model\n",
        "model = HandGestureClassifier(num_classes=len(le.classes_)).to(device)"
      ]
    },
    {
      "cell_type": "markdown",
      "source": [
        "### Training the model"
      ],
      "metadata": {
        "id": "tgUc_SuGr5UI"
      }
    },
    {
      "cell_type": "code",
      "execution_count": null,
      "metadata": {
        "id": "pbjHdk1OpYkh"
      },
      "outputs": [],
      "source": [
        "criterion = nn.CrossEntropyLoss()\n",
        "optimizer = torch.optim.Adam(model.parameters(), lr=0.001)\n",
        "\n",
        "epochs = int(input(\"Enter the number of epochs (default value : 20)  \"))\n",
        "for epoch in range(epochs):\n",
        "    model.train()\n",
        "    total_loss = 0\n",
        "    correct = 0\n",
        "\n",
        "    for inputs, targets in train_loader:\n",
        "        inputs, targets = inputs.to(device), targets.to(device)\n",
        "        optimizer.zero_grad()\n",
        "        outputs = model(inputs)\n",
        "        loss = criterion(outputs, targets)\n",
        "        loss.backward()\n",
        "        optimizer.step()\n",
        "\n",
        "        total_loss += loss.item()\n",
        "        correct += (outputs.argmax(1) == targets).sum().item()\n",
        "\n",
        "    acc = correct / len(train_dataset)\n",
        "    print(f\"Epoch {epoch+1}/{epochs} - Loss: {total_loss:.4f} - Acc: {acc*100:.2f}%\")"
      ]
    },
    {
      "cell_type": "markdown",
      "source": [
        "### Evaluating the model over the test cases"
      ],
      "metadata": {
        "id": "Q9o2_TBgsSng"
      }
    },
    {
      "cell_type": "code",
      "execution_count": null,
      "metadata": {
        "colab": {
          "base_uri": "https://localhost:8080/"
        },
        "id": "LJ-rzOqRpa5p",
        "outputId": "5eab17af-c4bf-4e05-c783-60edf30e6e5d"
      },
      "outputs": [
        {
          "name": "stdout",
          "output_type": "stream",
          "text": [
            "Validation Accuracy: 83.33%\n"
          ]
        }
      ],
      "source": [
        "model.eval()\n",
        "correct = 0\n",
        "with torch.no_grad():\n",
        "    for inputs, targets in val_loader:\n",
        "        inputs, targets = inputs.to(device), targets.to(device)\n",
        "        outputs = model(inputs)\n",
        "        correct += (outputs.argmax(1) == targets).sum().item()\n",
        "\n",
        "val_acc = correct / len(val_dataset)\n",
        "print(f\"Validation Accuracy: {val_acc*100:.2f}%\")"
      ]
    },
    {
      "cell_type": "markdown",
      "source": [
        "## Download the model file"
      ],
      "metadata": {
        "id": "oNIZ2cP7sXPA"
      }
    },
    {
      "cell_type": "markdown",
      "source": [
        "> Training is completed. Now you can download your files from here once you are **finished with above steps** and also happy with the **Validation Accuracy**."
      ],
      "metadata": {
        "id": "fPfkAV9Gsdop"
      }
    },
    {
      "cell_type": "code",
      "execution_count": null,
      "metadata": {
        "colab": {
          "base_uri": "https://localhost:8080/",
          "height": 17
        },
        "id": "0eVSfeErpeNB",
        "outputId": "84ae9596-3dfb-416f-d40c-285bc985421c"
      },
      "outputs": [
        {
          "data": {
            "application/javascript": [
              "\n",
              "    async function download(id, filename, size) {\n",
              "      if (!google.colab.kernel.accessAllowed) {\n",
              "        return;\n",
              "      }\n",
              "      const div = document.createElement('div');\n",
              "      const label = document.createElement('label');\n",
              "      label.textContent = `Downloading \"${filename}\": `;\n",
              "      div.appendChild(label);\n",
              "      const progress = document.createElement('progress');\n",
              "      progress.max = size;\n",
              "      div.appendChild(progress);\n",
              "      document.body.appendChild(div);\n",
              "\n",
              "      const buffers = [];\n",
              "      let downloaded = 0;\n",
              "\n",
              "      const channel = await google.colab.kernel.comms.open(id);\n",
              "      // Send a message to notify the kernel that we're ready.\n",
              "      channel.send({})\n",
              "\n",
              "      for await (const message of channel.messages) {\n",
              "        // Send a message to notify the kernel that we're ready.\n",
              "        channel.send({})\n",
              "        if (message.buffers) {\n",
              "          for (const buffer of message.buffers) {\n",
              "            buffers.push(buffer);\n",
              "            downloaded += buffer.byteLength;\n",
              "            progress.value = downloaded;\n",
              "          }\n",
              "        }\n",
              "      }\n",
              "      const blob = new Blob(buffers, {type: 'application/binary'});\n",
              "      const a = document.createElement('a');\n",
              "      a.href = window.URL.createObjectURL(blob);\n",
              "      a.download = filename;\n",
              "      div.appendChild(a);\n",
              "      a.click();\n",
              "      div.remove();\n",
              "    }\n",
              "  "
            ],
            "text/plain": [
              "<IPython.core.display.Javascript object>"
            ]
          },
          "metadata": {},
          "output_type": "display_data"
        },
        {
          "data": {
            "application/javascript": [
              "download(\"download_375837e2-45a6-4326-be88-7fbbc4f8e04c\", \"gesture_model.pth\", 69636)"
            ],
            "text/plain": [
              "<IPython.core.display.Javascript object>"
            ]
          },
          "metadata": {},
          "output_type": "display_data"
        },
        {
          "data": {
            "application/javascript": [
              "\n",
              "    async function download(id, filename, size) {\n",
              "      if (!google.colab.kernel.accessAllowed) {\n",
              "        return;\n",
              "      }\n",
              "      const div = document.createElement('div');\n",
              "      const label = document.createElement('label');\n",
              "      label.textContent = `Downloading \"${filename}\": `;\n",
              "      div.appendChild(label);\n",
              "      const progress = document.createElement('progress');\n",
              "      progress.max = size;\n",
              "      div.appendChild(progress);\n",
              "      document.body.appendChild(div);\n",
              "\n",
              "      const buffers = [];\n",
              "      let downloaded = 0;\n",
              "\n",
              "      const channel = await google.colab.kernel.comms.open(id);\n",
              "      // Send a message to notify the kernel that we're ready.\n",
              "      channel.send({})\n",
              "\n",
              "      for await (const message of channel.messages) {\n",
              "        // Send a message to notify the kernel that we're ready.\n",
              "        channel.send({})\n",
              "        if (message.buffers) {\n",
              "          for (const buffer of message.buffers) {\n",
              "            buffers.push(buffer);\n",
              "            downloaded += buffer.byteLength;\n",
              "            progress.value = downloaded;\n",
              "          }\n",
              "        }\n",
              "      }\n",
              "      const blob = new Blob(buffers, {type: 'application/binary'});\n",
              "      const a = document.createElement('a');\n",
              "      a.href = window.URL.createObjectURL(blob);\n",
              "      a.download = filename;\n",
              "      div.appendChild(a);\n",
              "      a.click();\n",
              "      div.remove();\n",
              "    }\n",
              "  "
            ],
            "text/plain": [
              "<IPython.core.display.Javascript object>"
            ]
          },
          "metadata": {},
          "output_type": "display_data"
        },
        {
          "data": {
            "application/javascript": [
              "download(\"download_512b9bc3-4844-4c29-82e8-dc8f769bb7e6\", \"label_encoder.pkl\", 380)"
            ],
            "text/plain": [
              "<IPython.core.display.Javascript object>"
            ]
          },
          "metadata": {},
          "output_type": "display_data"
        }
      ],
      "source": [
        "torch.save(model.state_dict(), \"gesture_model.pth\")\n",
        "\n",
        "with open(\"label_encoder.pkl\", \"wb\") as f:\n",
        "    pickle.dump(le, f)\n",
        "\n",
        "files.download(\"gesture_model.pth\")\n",
        "files.download(\"label_encoder.pkl\")"
      ]
    }
  ],
  "metadata": {
    "accelerator": "GPU",
    "colab": {
      "gpuType": "T4",
      "provenance": []
    },
    "kernelspec": {
      "display_name": "Python 3",
      "name": "python3"
    },
    "language_info": {
      "name": "python"
    }
  },
  "nbformat": 4,
  "nbformat_minor": 0
}